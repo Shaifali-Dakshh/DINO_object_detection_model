{
  "nbformat": 4,
  "nbformat_minor": 0,
  "metadata": {
    "colab": {
      "provenance": []
    },
    "kernelspec": {
      "name": "python3",
      "display_name": "Python 3"
    },
    "language_info": {
      "name": "python"
    }
  },
  "cells": [
    {
      "cell_type": "code",
      "source": [
        "import json\n",
        "import os\n",
        "import csv\n",
        "import shutil\n",
        "from sklearn.model_selection import train_test_split\n"
      ],
      "metadata": {
        "id": "NjjOBk-MTu6G"
      },
      "execution_count": null,
      "outputs": []
    },
    {
      "cell_type": "code",
      "source": [
        "# Define the path to your dataset and COCO annotation file\n",
        "folder_path = '/content/drive/MyDrive/IIT_Delhi'\n",
        "\n",
        "dataset_path = os.path.join(folder_path, 'Pedestrian_dataset_for_internship_assignment/Pedestrian_dataset_for_internship_assignment')\n",
        "# Define directories for train and validation sets\n",
        "train_dir = os.path.join(dataset_path, 'train')\n",
        "val_dir = os.path.join(dataset_path, 'val')\n",
        "\n",
        "# Create directories if they don't exist\n",
        "os.makedirs(train_dir, exist_ok=True)\n",
        "os.makedirs(val_dir, exist_ok=True)\n"
      ],
      "metadata": {
        "id": "K70_QXsiTyD_"
      },
      "execution_count": null,
      "outputs": []
    },
    {
      "cell_type": "code",
      "source": [
        "# Load the COCO annotations\n",
        "annotations_file = os.path.join(folder_path, 'random_sample_mavi_2_gt.json')\n",
        "\n",
        "with open(annotations_file, 'r') as f:\n",
        "    coco_data = json.load(f)\n",
        "\n",
        "# Extract images from the COCO data\n",
        "all_images = coco_data['images']\n",
        "print(f\"Total images: {len(all_images)}\")  # Should print 199\n"
      ],
      "metadata": {
        "colab": {
          "base_uri": "https://localhost:8080/"
        },
        "id": "_FBDb1LbUWNx",
        "outputId": "f7a72a77-53c1-4382-acd2-73d09e1e92b7"
      },
      "execution_count": null,
      "outputs": [
        {
          "output_type": "stream",
          "name": "stdout",
          "text": [
            "Total images: 199\n"
          ]
        }
      ]
    },
    {
      "cell_type": "code",
      "source": [
        "# Split the images into training (160) and validation (39) sets\n",
        "train_images, val_images = train_test_split(all_images, test_size=39, random_state=42)\n",
        "\n",
        "print(f\"Training set: {len(train_images)} images, Validation set: {len(val_images)} images\")\n"
      ],
      "metadata": {
        "colab": {
          "base_uri": "https://localhost:8080/"
        },
        "id": "GWiyno-lUmDb",
        "outputId": "45084a9c-3b44-46fe-b1ed-0a6cfb6509c0"
      },
      "execution_count": null,
      "outputs": [
        {
          "output_type": "stream",
          "name": "stdout",
          "text": [
            "Training set: 160 images, Validation set: 39 images\n"
          ]
        }
      ]
    },
    {
      "cell_type": "code",
      "source": [
        "def filter_annotations(images, annotations):\n",
        "    image_ids = {img['id'] for img in images}\n",
        "    return [ann for ann in annotations if ann['image_id'] in image_ids]\n",
        "\n",
        "# Filter annotations for training and validation sets\n",
        "train_annotations = filter_annotations(train_images, coco_data['annotations'])\n",
        "val_annotations = filter_annotations(val_images, coco_data['annotations'])\n"
      ],
      "metadata": {
        "id": "jBxf7CxgUwdk"
      },
      "execution_count": null,
      "outputs": []
    },
    {
      "cell_type": "code",
      "source": [
        "# Create new COCO-style data for train and val\n",
        "train_coco_data = {\n",
        "    'images': train_images,\n",
        "    'annotations': train_annotations,\n",
        "    'categories': coco_data['categories']\n",
        "}\n",
        "\n",
        "val_coco_data = {\n",
        "    'images': val_images,\n",
        "    'annotations': val_annotations,\n",
        "    'categories': coco_data['categories']\n",
        "}\n",
        "\n",
        "# Save the new annotations\n",
        "with open(os.path.join(train_dir, 'train_annotations.json'), 'w') as f:\n",
        "    json.dump(train_coco_data, f)\n",
        "\n",
        "with open(os.path.join(val_dir, 'val_annotations.json'), 'w') as f:\n",
        "    json.dump(val_coco_data, f)\n",
        "\n",
        "print(\"Train and validation annotations saved.\")\n"
      ],
      "metadata": {
        "colab": {
          "base_uri": "https://localhost:8080/"
        },
        "id": "R5GsNt5dU5bs",
        "outputId": "ae2bf664-bcf5-4547-a6fa-0c7039a3d0d0"
      },
      "execution_count": null,
      "outputs": [
        {
          "output_type": "stream",
          "name": "stdout",
          "text": [
            "Train and validation annotations saved.\n"
          ]
        }
      ]
    },
    {
      "cell_type": "code",
      "source": [
        "# Step 8: Move Images to Train and Validation Folders\n",
        "\n",
        "# Move training images\n",
        "for img in train_images:\n",
        "    img_path = os.path.join(dataset_path, img['file_name'])\n",
        "    shutil.copy(img_path, train_dir)\n",
        "\n",
        "# Move validation images\n",
        "for img in val_images:\n",
        "    img_path = os.path.join(dataset_path, img['file_name'])\n",
        "    shutil.copy(img_path, val_dir)\n",
        "\n",
        "print(\"Images moved to train and validation folders.\")\n",
        "\n",
        "# Step 9: Save COCO Annotations for Train and Validation\n",
        "\n",
        "# Save the new annotations for train and val sets into their respective folders\n",
        "with open(os.path.join(train_dir, 'train_annotations.json'), 'w') as f:\n",
        "    json.dump(train_coco_data, f)\n",
        "\n",
        "with open(os.path.join(val_dir, 'val_annotations.json'), 'w') as f:\n",
        "    json.dump(val_coco_data, f)\n",
        "\n",
        "print(\"Train and validation annotations saved in their respective folders.\")\n"
      ],
      "metadata": {
        "colab": {
          "base_uri": "https://localhost:8080/"
        },
        "id": "ylOR5rY4VAKN",
        "outputId": "58ecc90f-5814-486c-cc04-2dccaf0d8e9c"
      },
      "execution_count": null,
      "outputs": [
        {
          "output_type": "stream",
          "name": "stdout",
          "text": [
            "Images moved to train and validation folders.\n",
            "Train and validation annotations saved in their respective folders.\n"
          ]
        }
      ]
    },
    {
      "cell_type": "code",
      "source": [
        "from google.colab import drive\n",
        "drive.mount('/content/drive')\n"
      ],
      "metadata": {
        "id": "wj-H0n0MkHU3",
        "outputId": "63381b3a-309b-4d3f-d168-fb7759649045",
        "colab": {
          "base_uri": "https://localhost:8080/"
        }
      },
      "execution_count": null,
      "outputs": [
        {
          "output_type": "stream",
          "name": "stdout",
          "text": [
            "Drive already mounted at /content/drive; to attempt to forcibly remount, call drive.mount(\"/content/drive\", force_remount=True).\n"
          ]
        }
      ]
    }
  ]
}